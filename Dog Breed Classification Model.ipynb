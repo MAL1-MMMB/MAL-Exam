{
 "cells": [
  {
   "cell_type": "markdown",
   "metadata": {},
   "source": [
    "# Stanford Dogs - A Classfication problem\n",
    "\n",
    "Classification is a fundamental task in machine learning, and the Stanford Dogs Dataset provides a valuable resource for training and evaluating classification models. The dataset consists of images of various dog breeds, each labeled with the corresponding breed.\n",
    "\n",
    "By leveraging this dataset, we can develop a classification model that can accurately identify the breed of a given dog image. This can have practical applications in areas such as pet identification, animal welfare, and breed-specific research.\n",
    "\n",
    "To build a classification model using the Stanford Dogs Dataset, we can employ various machine learning techniques, such as convolutional neural networks (CNNs). CNNs are particularly effective for image classification tasks, as they can automatically learn relevant features from the input images.\n",
    "\n",
    "By training a CNN on the Stanford Dogs Dataset, we can teach the model to recognize distinctive patterns and characteristics of different dog breeds. Once trained, the model can be used to classify new dog images, providing predictions about the breed with a certain level of confidence.\n",
    "\n",
    "Evaluation of the classification model can be done using metrics such as accuracy, precision, recall, and F1 score. These metrics help assess the model's performance and determine its effectiveness in correctly classifying dog breeds.\n",
    "\n",
    "Overall, the Stanford Dogs Dataset offers a valuable opportunity to explore and develop classification models for dog breed identification. By leveraging this dataset and employing appropriate machine learning techniques, we can contribute to the field of computer vision and enhance our understanding of dog breeds."
   ]
  },
  {
   "cell_type": "markdown",
   "metadata": {},
   "source": [
    "## 00 - Preprocessing ⚙️\n",
    "\n",
    "The dataset is split into two parts - Images and Annotations. \n",
    "\n",
    "The **Images** are pictures of the 120 different dog breeds present in the dataset. \n",
    "The **Annotations** are `.xml`-files, which contains information about where the dog is located in the different pictures and what breed it is.\n",
    "\n",
    "So first of all we need to load all of these informations into Python, so they can be used to train our model."
   ]
  },
  {
   "cell_type": "code",
   "execution_count": 10,
   "metadata": {},
   "outputs": [
    {
     "name": "stdout",
     "output_type": "stream",
     "text": [
      "Found 16508 images belonging to 120 classes.\n",
      "Found 4072 images belonging to 120 classes.\n"
     ]
    }
   ],
   "source": [
    "import tensorflow as tf\n",
    "from tensorflow.keras.preprocessing.image import ImageDataGenerator\n",
    "import os\n",
    "import scipy\n",
    "\n",
    "# Define paths\n",
    "images_dir = 'images'\n",
    "\n",
    "# Create the ImageDataGenerator data generator\n",
    "datagen = ImageDataGenerator(\n",
    "    rescale=1./255,\n",
    "    validation_split=0.2, # 20% of the data will be used for validation\n",
    "    horizontal_flip=True,\n",
    "    rotation_range=20,\n",
    "    width_shift_range=0.2,\n",
    "    height_shift_range=0.2,\n",
    "    zoom_range=0.2,\n",
    ")\n",
    "\n",
    "# Load all images to be used for the training set.\n",
    "train_generator = datagen.flow_from_directory(\n",
    "    images_dir,\n",
    "    target_size=(224, 224),\n",
    "    batch_size=32,\n",
    "    class_mode='categorical',\n",
    "    subset='training',\n",
    "    shuffle=True,\n",
    "    seed=42\n",
    ")\n",
    "\n",
    "# Load all images to be used for the validation set.\n",
    "validation_generator = datagen.flow_from_directory(\n",
    "    images_dir,\n",
    "    target_size=(224, 224),\n",
    "    batch_size=32,\n",
    "    class_mode='categorical',\n",
    "    subset='validation',\n",
    "    shuffle=True,\n",
    "    seed=42\n",
    ")\n",
    "\n"
   ]
  },
  {
   "cell_type": "markdown",
   "metadata": {},
   "source": [
    "## 01 - Compiling the model 🔧\n",
    "\n",
    "The next step in the process is to compile the model itself. But before that we have define what **Loss function**, **Optimizer** and **Metrics** we are going to be using on this model.\n",
    "\n",
    "For the **Loss function** We have a few different options:\n",
    "\n",
    "(*Name a few different loss functions that would make sense to use for this project.*)\n",
    "\n",
    "For the **Optizimers** we also have a few different options:\n",
    "- *Adam*, *SGD*, *RMSProp* etc.\n",
    "\n",
    "For the **Metrcis** we also have a few different options:\n",
    "- *Accuarcy*, *PRecision*, *Recall*, *F1 score* etc.\n"
   ]
  },
  {
   "cell_type": "code",
   "execution_count": 18,
   "metadata": {},
   "outputs": [],
   "source": [
    "from tensorflow.keras.applications import ResNet50\n",
    "from tensorflow.keras.models import Model\n",
    "from tensorflow.keras.layers import Dense, GlobalAveragePooling2D, Dropout\n",
    "from tensorflow.keras.optimizers import SGD\n",
    "from tensorflow.keras.regularizers import l2\n",
    "\n",
    "# Load the ResNet50 model, pre-trained on ImageNet\n",
    "base_model = ResNet50(weights='imagenet', include_top=False, input_shape=(224, 224, 3))\n",
    "\n",
    "# Add custom layers on top of the base model\n",
    "x = base_model.output\n",
    "x = GlobalAveragePooling2D()(x)\n",
    "x = Dense(1024, activation='relu', kernel_regularizer=l2(0.01))(x)\n",
    "x = Dropout(0.5)(x)\n",
    "predictions = Dense(train_generator.num_classes, activation='softmax')(x)\n",
    "\n",
    "# Define the model\n",
    "model = Model(inputs=base_model.input, outputs=predictions)\n",
    "\n",
    "# Unfreeze the last few layers of the base model\n",
    "for layer in base_model.layers[-10:]:\n",
    "    layer.trainable = True\n",
    "\n",
    "# Compile the model\n",
    "model.compile(optimizer=SGD(learning_rate=0.0001, momentum=0.9), loss='categorical_crossentropy', metrics=['accuracy'])\n",
    "\n",
    "# Callbacks\n",
    "from tensorflow.keras.callbacks import ModelCheckpoint, EarlyStopping, ReduceLROnPlateau\n",
    "\n",
    "reduce_lr = ReduceLROnPlateau(monitor='val_loss', factor=0.2, patience=3, min_lr=0.00001, verbose=1)\n",
    "early_stopping = EarlyStopping(monitor='val_loss', patience=5, restore_best_weights=True, verbose=1)\n",
    "model_checkpoint = ModelCheckpoint('model.h5', save_best_only=True, save_weights_only=True, monitor='val_loss', mode='min', verbose=1)\n"
   ]
  },
  {
   "cell_type": "markdown",
   "metadata": {},
   "source": [
    "## 02 - Train the model 🧠\n",
    "\n",
    "The next step in the process is to train the now compiled model on our data. Here we also have a little exploratory work in figuring out:\n",
    "- What *batch size* should we use?\n",
    "- What *number of epochs* should we use?\n",
    "- Is the model *overfitting* or *underfitting*?\n",
    "\n"
   ]
  },
  {
   "cell_type": "code",
   "execution_count": 21,
   "metadata": {},
   "outputs": [
    {
     "name": "stdout",
     "output_type": "stream",
     "text": [
      "Epoch 1/20\n",
      "100/100 [==============================] - 29s 285ms/step - loss: 14.2688 - accuracy: 0.4369 - val_loss: 13.8291 - val_accuracy: 0.5638\n",
      "Epoch 2/20\n",
      "100/100 [==============================] - 33s 332ms/step - loss: 14.1635 - accuracy: 0.4428 - val_loss: 13.7282 - val_accuracy: 0.6087\n",
      "Epoch 3/20\n",
      "100/100 [==============================] - 36s 357ms/step - loss: 14.1225 - accuracy: 0.4450 - val_loss: 13.6851 - val_accuracy: 0.6018\n",
      "Epoch 4/20\n",
      "100/100 [==============================] - 35s 355ms/step - loss: 13.9743 - accuracy: 0.4722 - val_loss: 13.6075 - val_accuracy: 0.5888\n",
      "Epoch 5/20\n",
      "100/100 [==============================] - 33s 333ms/step - loss: 13.9067 - accuracy: 0.4791 - val_loss: 13.5472 - val_accuracy: 0.5550\n",
      "Epoch 6/20\n",
      "100/100 [==============================] - 30s 300ms/step - loss: 13.8405 - accuracy: 0.4881 - val_loss: 13.4362 - val_accuracy: 0.5950\n",
      "Epoch 7/20\n",
      "100/100 [==============================] - 32s 320ms/step - loss: 13.7857 - accuracy: 0.4762 - val_loss: 13.4113 - val_accuracy: 0.6087\n",
      "Epoch 8/20\n",
      "100/100 [==============================] - 34s 346ms/step - loss: 13.6398 - accuracy: 0.5072 - val_loss: 13.3154 - val_accuracy: 0.6121\n",
      "Epoch 9/20\n",
      "100/100 [==============================] - 33s 330ms/step - loss: 13.6012 - accuracy: 0.4966 - val_loss: 13.2023 - val_accuracy: 0.6325\n",
      "Epoch 10/20\n",
      "100/100 [==============================] - 33s 335ms/step - loss: 13.4962 - accuracy: 0.5172 - val_loss: 13.1843 - val_accuracy: 0.6225\n",
      "Epoch 11/20\n",
      "100/100 [==============================] - 34s 338ms/step - loss: 13.4044 - accuracy: 0.5281 - val_loss: 13.1643 - val_accuracy: 0.6062\n",
      "Epoch 12/20\n",
      "100/100 [==============================] - 34s 340ms/step - loss: 13.3334 - accuracy: 0.5278 - val_loss: 13.0713 - val_accuracy: 0.5975\n",
      "Epoch 13/20\n",
      "100/100 [==============================] - 34s 337ms/step - loss: 13.3381 - accuracy: 0.5231 - val_loss: 12.9570 - val_accuracy: 0.6289\n",
      "Epoch 14/20\n",
      "100/100 [==============================] - 48s 478ms/step - loss: 13.2318 - accuracy: 0.5372 - val_loss: 12.8557 - val_accuracy: 0.6400\n",
      "Epoch 15/20\n",
      "100/100 [==============================] - 51s 514ms/step - loss: 13.0930 - accuracy: 0.5516 - val_loss: 12.8033 - val_accuracy: 0.6250\n",
      "Epoch 16/20\n",
      "100/100 [==============================] - 49s 489ms/step - loss: 13.1165 - accuracy: 0.5375 - val_loss: 12.7747 - val_accuracy: 0.6575\n",
      "Epoch 17/20\n",
      "100/100 [==============================] - 46s 462ms/step - loss: 13.0263 - accuracy: 0.5500 - val_loss: 12.7293 - val_accuracy: 0.6250\n",
      "Epoch 18/20\n",
      "100/100 [==============================] - 43s 433ms/step - loss: 12.9663 - accuracy: 0.5431 - val_loss: 12.6214 - val_accuracy: 0.6625\n",
      "Epoch 19/20\n",
      "100/100 [==============================] - 40s 404ms/step - loss: 12.8615 - accuracy: 0.5679 - val_loss: 12.5565 - val_accuracy: 0.6488\n",
      "Epoch 20/20\n",
      "100/100 [==============================] - 30s 296ms/step - loss: 12.7949 - accuracy: 0.5722 - val_loss: 12.5852 - val_accuracy: 0.6550\n"
     ]
    }
   ],
   "source": [
    "\n",
    "# - Function the limit the number of batches per epoch for faster iterations.\n",
    "def limit_batches(generator, max_batches):\n",
    "    while True:\n",
    "        for i, (x_batch, y_batch) in enumerate(generator):\n",
    "            if i >= max_batches:\n",
    "                break\n",
    "            yield (x_batch, y_batch)\n",
    "\n",
    "# * Current limits:\n",
    "max_train_batches = 100 # It's a good starting point, but needs to be adjusted for better results.\n",
    "max_validation_batches = 25 # It's a good starting point.\n",
    "\n",
    "# ! 1st round of training\n",
    "history = model.fit(\n",
    "    limit_batches(train_generator, max_train_batches),\n",
    "    validation_data=limit_batches(validation_generator, max_validation_batches),\n",
    "    epochs=20, # Use a small number of epochs to speed up the process (10 epochs = 5 mins on GPU - With validation accuracy of 0.18 after 10 epochs)\n",
    "    steps_per_epoch=max_train_batches,\n",
    "    validation_steps=max_validation_batches\n",
    ")"
   ]
  },
  {
   "cell_type": "code",
   "execution_count": 23,
   "metadata": {},
   "outputs": [
    {
     "name": "stdout",
     "output_type": "stream",
     "text": [
      "127/127 [==============================] - 29s 223ms/step - loss: 12.5677 - accuracy: 0.6307\n",
      "Validation accuracy: 63.07%\n"
     ]
    }
   ],
   "source": [
    "val_loss, val_accuracy = model.evaluate(validation_generator, steps=validation_generator.samples // validation_generator.batch_size)\n",
    "print(f'Validation accuracy: {val_accuracy * 100:.2f}%')\n",
    "\n",
    "# Save the model\n",
    "model.save('model.h5')"
   ]
  },
  {
   "cell_type": "markdown",
   "metadata": {},
   "source": [
    "## Futher plan!\n",
    "\n",
    "1. **Choose the model architecture suitable for our problem** 🤔\n",
    "    - Convolutional Neural Network (CNN - Good with Image data)\n",
    "    - Recurrent Neural Network (RNN - Good with sequence data)\n",
    "    - Another type??\n",
    "\n",
    "2. **Compile our model** 🔧\n",
    "    - What *Loss function* should we use? - Cross-entropy is used for classification?\n",
    "    - What *Optimizer* should we use? Adam, SGD, RMSProp etc.\n",
    "    - What *Metrics* should we use? Accuracy, precision, recall, f1 score etc.\n",
    "\n",
    "3. **Train the model** ⚙️\n",
    "    - What *batch size* should we use?\n",
    "    - What *number of epochs* should we use?\n",
    "    - Is the model *overfitting* or *underfitting*?\n",
    "\n",
    "4. **Evalute the model** 📊\n",
    "    - Is the model performing as we would like? Based upon our selected metrics to be unbiased 😉\n",
    "\n",
    "5. **Tune Hyperparameter (Optional) - To improve performance** 📈\n",
    "    - Use grid search or another thing similar to find the best hyperparameters\n",
    "    - Adjust model layers, units, learning rate etc.\n",
    "\n",
    "6. **Save the Model (Optional) - But would be smart** 🧠\n",
    "    - This can be done, so we don't have to run all the code later to get the model up and running!\n",
    "\n",
    "7. **Use the Model!**"
   ]
  },
  {
   "cell_type": "code",
   "execution_count": null,
   "metadata": {},
   "outputs": [],
   "source": []
  }
 ],
 "metadata": {
  "kernelspec": {
   "display_name": "Python 3",
   "language": "python",
   "name": "python3"
  },
  "language_info": {
   "codemirror_mode": {
    "name": "ipython",
    "version": 3
   },
   "file_extension": ".py",
   "mimetype": "text/x-python",
   "name": "python",
   "nbconvert_exporter": "python",
   "pygments_lexer": "ipython3",
   "version": "3.9.19"
  }
 },
 "nbformat": 4,
 "nbformat_minor": 2
}
