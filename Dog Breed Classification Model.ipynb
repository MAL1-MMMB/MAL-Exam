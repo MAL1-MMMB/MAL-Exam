{
 "cells": [
  {
   "cell_type": "markdown",
   "metadata": {},
   "source": [
    "# Stanford Dogs - A Classfication problem\n",
    "\n",
    "Classification is a fundamental task in machine learning, and the Stanford Dogs Dataset provides a valuable resource for training and evaluating classification models. The dataset consists of images of various dog breeds, each labeled with the corresponding breed.\n",
    "\n",
    "By leveraging this dataset, we can develop a classification model that can accurately identify the breed of a given dog image. This can have practical applications in areas such as pet identification, animal welfare, and breed-specific research.\n",
    "\n",
    "To build a classification model using the Stanford Dogs Dataset, we can employ various machine learning techniques, such as convolutional neural networks (CNNs). CNNs are particularly effective for image classification tasks, as they can automatically learn relevant features from the input images.\n",
    "\n",
    "By training a CNN on the Stanford Dogs Dataset, we can teach the model to recognize distinctive patterns and characteristics of different dog breeds. Once trained, the model can be used to classify new dog images, providing predictions about the breed with a certain level of confidence.\n",
    "\n",
    "Evaluation of the classification model can be done using metrics such as accuracy, precision, recall, and F1 score. These metrics help assess the model's performance and determine its effectiveness in correctly classifying dog breeds.\n",
    "\n",
    "Overall, the Stanford Dogs Dataset offers a valuable opportunity to explore and develop classification models for dog breed identification. By leveraging this dataset and employing appropriate machine learning techniques, we can contribute to the field of computer vision and enhance our understanding of dog breeds."
   ]
  },
  {
   "cell_type": "markdown",
   "metadata": {},
   "source": [
    "## 00 - Preprocessing ⚙️\n",
    "\n",
    "The dataset is split into two parts - Images and Annotations. \n",
    "\n",
    "The **Images** are pictures of the 120 different dog breeds present in the dataset. \n",
    "The **Annotations** are `.xml`-files, which contains information about where the dog is located in the different pictures and what breed it is.\n",
    "\n",
    "So first of all we need to load all of these informations into Python, so they can be used to train our model."
   ]
  },
  {
   "cell_type": "code",
   "execution_count": 26,
   "metadata": {},
   "outputs": [
    {
     "name": "stdout",
     "output_type": "stream",
     "text": [
      "Found 16508 images belonging to 120 classes.\n",
      "Found 4072 images belonging to 120 classes.\n"
     ]
    }
   ],
   "source": [
    "import tensorflow as tf\n",
    "from tensorflow.keras.preprocessing.image import ImageDataGenerator\n",
    "import os\n",
    "import scipy\n",
    "\n",
    "# Define paths\n",
    "images_dir = 'images'\n",
    "\n",
    "# Create the ImageDataGenerator data generator\n",
    "datagen = ImageDataGenerator(\n",
    "    rescale=1./255,\n",
    "    validation_split=0.2, # 20% of the data will be used for validation\n",
    "    horizontal_flip=True,\n",
    "    rotation_range=20,\n",
    "    width_shift_range=0.2,\n",
    "    height_shift_range=0.2,\n",
    "    zoom_range=0.2,\n",
    ")\n",
    "\n",
    "# Load all images to be used for the training set.\n",
    "train_generator = datagen.flow_from_directory(\n",
    "    images_dir,\n",
    "    target_size=(224, 224),\n",
    "    batch_size=32,\n",
    "    class_mode='categorical',\n",
    "    subset='training',\n",
    "    shuffle=True,\n",
    "    seed=42\n",
    ")\n",
    "\n",
    "# Load all images to be used for the validation set.\n",
    "validation_generator = datagen.flow_from_directory(\n",
    "    images_dir,\n",
    "    target_size=(224, 224),\n",
    "    batch_size=32,\n",
    "    class_mode='categorical',\n",
    "    subset='validation',\n",
    "    shuffle=True,\n",
    "    seed=42\n",
    ")\n",
    "\n"
   ]
  },
  {
   "cell_type": "markdown",
   "metadata": {},
   "source": [
    "## 01 - Compiling the model 🔧\n",
    "\n",
    "The next step in the process is to compile the model itself. But before that we have define what **Loss function**, **Optimizer** and **Metrics** we are going to be using on this model.\n",
    "\n",
    "For the **Loss function** We have a few different options:\n",
    "\n",
    "(*Name a few different loss functions that would make sense to use for this project.*)\n",
    "\n",
    "For the **Optizimers** we also have a few different options:\n",
    "- *Adam*, *SGD*, *RMSProp* etc.\n",
    "\n",
    "For the **Metrcis** we also have a few different options:\n",
    "- *Accuarcy*, *PRecision*, *Recall*, *F1 score* etc.\n"
   ]
  },
  {
   "cell_type": "code",
   "execution_count": 28,
   "metadata": {},
   "outputs": [],
   "source": [
    "from tensorflow.keras.applications import ResNet50\n",
    "from tensorflow.keras.models import Model\n",
    "from tensorflow.keras.layers import Dense, GlobalAveragePooling2D, Dropout\n",
    "from tensorflow.keras.optimizers import SGD\n",
    "from tensorflow.keras.regularizers import l2\n",
    "\n",
    "# ? Load pre-trained model, if available\n",
    "if os.path.exists('model.h5'):\n",
    "    model = tf.keras.models.load_model('model.h5')\n",
    "\n",
    "# ? Otherwise, we need to create a new instance of the model.\n",
    "else:\n",
    "    # Load the ResNet50 model, pre-trained on ImageNet\n",
    "    base_model = ResNet50(weights='imagenet', include_top=False, input_shape=(224, 224, 3))\n",
    "\n",
    "    # Add custom layers on top of the base model\n",
    "    x = base_model.output\n",
    "    x = GlobalAveragePooling2D()(x)\n",
    "    x = Dense(1024, activation='relu', kernel_regularizer=l2(0.01))(x)\n",
    "    x = Dropout(0.5)(x)\n",
    "    predictions = Dense(train_generator.num_classes, activation='softmax')(x)\n",
    "\n",
    "    # Define the model\n",
    "    model = Model(inputs=base_model.input, outputs=predictions)\n",
    "\n",
    "    # Unfreeze the last few layers of the base model\n",
    "    for layer in base_model.layers[-10:]:\n",
    "        layer.trainable = True\n",
    "\n",
    "    # Compile the model\n",
    "    model.compile(optimizer=SGD(learning_rate=0.0001, momentum=0.9), loss='categorical_crossentropy', metrics=['accuracy'])\n"
   ]
  },
  {
   "cell_type": "markdown",
   "metadata": {},
   "source": [
    "## 02 - Train the model 🧠\n",
    "\n",
    "The next step in the process is to train the now compiled model on our data. Here we also have a little exploratory work in figuring out:\n",
    "- What *batch size* should we use?\n",
    "- What *number of epochs* should we use?\n",
    "- Is the model *overfitting* or *underfitting*?\n",
    "\n"
   ]
  },
  {
   "cell_type": "code",
   "execution_count": 29,
   "metadata": {},
   "outputs": [
    {
     "name": "stdout",
     "output_type": "stream",
     "text": [
      "Epoch 1/20\n",
      "100/100 [==============================] - 32s 302ms/step - loss: 11.5807 - accuracy: 0.6606 - val_loss: 11.4933 - val_accuracy: 0.6975\n",
      "Epoch 2/20\n",
      "100/100 [==============================] - 29s 294ms/step - loss: 11.5497 - accuracy: 0.6506 - val_loss: 11.4829 - val_accuracy: 0.6587\n",
      "Epoch 3/20\n",
      "100/100 [==============================] - 29s 289ms/step - loss: 11.5264 - accuracy: 0.6397 - val_loss: 11.4546 - val_accuracy: 0.6525\n",
      "Epoch 4/20\n",
      "100/100 [==============================] - 35s 350ms/step - loss: 11.4679 - accuracy: 0.6447 - val_loss: 11.2225 - val_accuracy: 0.7300\n",
      "Epoch 5/20\n",
      "100/100 [==============================] - 37s 367ms/step - loss: 11.4119 - accuracy: 0.6544 - val_loss: 11.2120 - val_accuracy: 0.7165\n",
      "Epoch 6/20\n",
      "100/100 [==============================] - 32s 317ms/step - loss: 11.3437 - accuracy: 0.6549 - val_loss: 11.2269 - val_accuracy: 0.6850\n",
      "Epoch 7/20\n",
      "100/100 [==============================] - 30s 296ms/step - loss: 11.3145 - accuracy: 0.6662 - val_loss: 11.2065 - val_accuracy: 0.6800\n",
      "Epoch 8/20\n",
      "100/100 [==============================] - 30s 297ms/step - loss: 11.2576 - accuracy: 0.6513 - val_loss: 11.1553 - val_accuracy: 0.6712\n",
      "Epoch 9/20\n",
      "100/100 [==============================] - 30s 298ms/step - loss: 11.2293 - accuracy: 0.6600 - val_loss: 11.0099 - val_accuracy: 0.7262\n",
      "Epoch 10/20\n",
      "100/100 [==============================] - 30s 299ms/step - loss: 11.1729 - accuracy: 0.6581 - val_loss: 10.9887 - val_accuracy: 0.7036\n",
      "Epoch 11/20\n",
      "100/100 [==============================] - 31s 307ms/step - loss: 11.1021 - accuracy: 0.6721 - val_loss: 10.9774 - val_accuracy: 0.7125\n",
      "Epoch 12/20\n",
      "100/100 [==============================] - 30s 298ms/step - loss: 11.0445 - accuracy: 0.6766 - val_loss: 11.0166 - val_accuracy: 0.6862\n",
      "Epoch 13/20\n",
      "100/100 [==============================] - 30s 300ms/step - loss: 11.0032 - accuracy: 0.6825 - val_loss: 10.8673 - val_accuracy: 0.7387\n",
      "Epoch 14/20\n",
      "100/100 [==============================] - 30s 298ms/step - loss: 10.9485 - accuracy: 0.6841 - val_loss: 10.9217 - val_accuracy: 0.6850\n",
      "Epoch 15/20\n",
      "100/100 [==============================] - 29s 296ms/step - loss: 10.9452 - accuracy: 0.6712 - val_loss: 10.8107 - val_accuracy: 0.7049\n",
      "Epoch 16/20\n",
      "100/100 [==============================] - 30s 300ms/step - loss: 10.9151 - accuracy: 0.6721 - val_loss: 10.8092 - val_accuracy: 0.7138\n",
      "Epoch 17/20\n",
      "100/100 [==============================] - 30s 302ms/step - loss: 10.7887 - accuracy: 0.7006 - val_loss: 10.7887 - val_accuracy: 0.6975\n",
      "Epoch 18/20\n",
      "100/100 [==============================] - 30s 297ms/step - loss: 10.7698 - accuracy: 0.6872 - val_loss: 10.7104 - val_accuracy: 0.7038\n",
      "Epoch 19/20\n",
      "100/100 [==============================] - 30s 296ms/step - loss: 10.7230 - accuracy: 0.6888 - val_loss: 10.6385 - val_accuracy: 0.6972\n",
      "Epoch 20/20\n",
      "100/100 [==============================] - 30s 302ms/step - loss: 10.7166 - accuracy: 0.6772 - val_loss: 10.5708 - val_accuracy: 0.7138\n"
     ]
    }
   ],
   "source": [
    "\n",
    "# - Function the limit the number of batches per epoch for faster iterations.\n",
    "def limit_batches(generator, max_batches):\n",
    "    while True:\n",
    "        for i, (x_batch, y_batch) in enumerate(generator):\n",
    "            if i >= max_batches:\n",
    "                break\n",
    "            yield (x_batch, y_batch)\n",
    "\n",
    "# * Current limits:\n",
    "max_train_batches = 100 # It's a good starting point, but needs to be adjusted for better results.\n",
    "max_validation_batches = 25 # It's a good starting point.\n",
    "\n",
    "# ? Callbacks and their usage\n",
    "\n",
    "# 1. Reduce learning rate when a metric has stopped improving.\n",
    "reduce_lr = ReduceLROnPlateau(monitor='val_loss', factor=0.2, patience=3, min_lr=0.00001, verbose=1)\n",
    "# 2. Stop training when a monitored quantity has stopped improving.\n",
    "early_stopping = EarlyStopping(monitor='val_loss', patience=5, restore_best_weights=True, verbose=1)\n",
    "# 3. Save the model after every epoch.\n",
    "model_checkpoint = ModelCheckpoint('model.h5', save_best_only=True, save_weights_only=True, monitor='val_loss', mode='min', verbose=1)\n",
    "\n",
    "# ! 1st round of training\n",
    "history = model.fit(\n",
    "    limit_batches(train_generator, max_train_batches),\n",
    "    validation_data=limit_batches(validation_generator, max_validation_batches),\n",
    "    epochs=20, # Use a small number of epochs to speed up the process (10 epochs = 5 mins on GPU - With validation accuracy of 0.18 after 10 epochs)\n",
    "    steps_per_epoch=max_train_batches,\n",
    "    validation_steps=max_validation_batches\n",
    ")"
   ]
  },
  {
   "cell_type": "code",
   "execution_count": 30,
   "metadata": {},
   "outputs": [
    {
     "name": "stdout",
     "output_type": "stream",
     "text": [
      "127/127 [==============================] - 29s 225ms/step - loss: 10.6037 - accuracy: 0.7099\n",
      "Validation accuracy: 70.99%\n"
     ]
    }
   ],
   "source": [
    "val_loss, val_accuracy = model.evaluate(validation_generator, steps=validation_generator.samples // validation_generator.batch_size)\n",
    "print(f'Validation accuracy: {val_accuracy * 100:.2f}%')\n",
    "\n",
    "# Save the model\n",
    "model.save('model.h5')"
   ]
  },
  {
   "cell_type": "markdown",
   "metadata": {},
   "source": [
    "## Futher plan!\n",
    "\n",
    "1. **Choose the model architecture suitable for our problem** 🤔\n",
    "    - Convolutional Neural Network (CNN - Good with Image data)\n",
    "    - Recurrent Neural Network (RNN - Good with sequence data)\n",
    "    - Another type??\n",
    "\n",
    "2. **Compile our model** 🔧\n",
    "    - What *Loss function* should we use? - Cross-entropy is used for classification?\n",
    "    - What *Optimizer* should we use? Adam, SGD, RMSProp etc.\n",
    "    - What *Metrics* should we use? Accuracy, precision, recall, f1 score etc.\n",
    "\n",
    "3. **Train the model** ⚙️\n",
    "    - What *batch size* should we use?\n",
    "    - What *number of epochs* should we use?\n",
    "    - Is the model *overfitting* or *underfitting*?\n",
    "\n",
    "4. **Evalute the model** 📊\n",
    "    - Is the model performing as we would like? Based upon our selected metrics to be unbiased 😉\n",
    "\n",
    "5. **Tune Hyperparameter (Optional) - To improve performance** 📈\n",
    "    - Use grid search or another thing similar to find the best hyperparameters\n",
    "    - Adjust model layers, units, learning rate etc.\n",
    "\n",
    "6. **Save the Model (Optional) - But would be smart** 🧠\n",
    "    - This can be done, so we don't have to run all the code later to get the model up and running!\n",
    "\n",
    "7. **Use the Model!**"
   ]
  },
  {
   "cell_type": "code",
   "execution_count": null,
   "metadata": {},
   "outputs": [],
   "source": []
  }
 ],
 "metadata": {
  "kernelspec": {
   "display_name": "Python 3",
   "language": "python",
   "name": "python3"
  },
  "language_info": {
   "codemirror_mode": {
    "name": "ipython",
    "version": 3
   },
   "file_extension": ".py",
   "mimetype": "text/x-python",
   "name": "python",
   "nbconvert_exporter": "python",
   "pygments_lexer": "ipython3",
   "version": "3.9.19"
  }
 },
 "nbformat": 4,
 "nbformat_minor": 2
}
